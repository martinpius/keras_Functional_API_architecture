{
  "nbformat": 4,
  "nbformat_minor": 0,
  "metadata": {
    "colab": {
      "name": "keras_functional_API.ipynb",
      "provenance": [],
      "authorship_tag": "ABX9TyOEiEoNkcHWh8JidhnOUnDH",
      "include_colab_link": true
    },
    "kernelspec": {
      "name": "python3",
      "display_name": "Python 3"
    },
    "accelerator": "GPU"
  },
  "cells": [
    {
      "cell_type": "markdown",
      "metadata": {
        "id": "view-in-github",
        "colab_type": "text"
      },
      "source": [
        "<a href=\"https://colab.research.google.com/github/martinpius/keras_Functional_API_architecture/blob/main/keras_functional_API.ipynb\" target=\"_parent\"><img src=\"https://colab.research.google.com/assets/colab-badge.svg\" alt=\"Open In Colab\"/></a>"
      ]
    },
    {
      "cell_type": "code",
      "metadata": {
        "colab": {
          "base_uri": "https://localhost:8080/"
        },
        "id": "1MGKFqWheuR2",
        "outputId": "865b9055-0c2f-457c-af27-7064e86c464b"
      },
      "source": [
        "from google.colab import drive\n",
        "try: \n",
        "  drive.mount(\"/content/drive\", force_remount = True)\n",
        "  COLAB = True\n",
        "  import tensorflow as tf\n",
        "  print(f\"You are using colab with tensorflow version {tf.__version__}\")\n",
        "except Exception as e:\n",
        "  COLAB = False\n",
        "  print(f\"{type(e)}: {e}\\n...Load your drive please...\")\n",
        "def time_fmt(t):\n",
        "  h = int(t/(60 * 60))\n",
        "  m = int(t % (60 *60) / 60)\n",
        "  s = int(t % 60)\n",
        "  return f\"{h}:{m:>03}:{s:>05.2f}\""
      ],
      "execution_count": 1,
      "outputs": [
        {
          "output_type": "stream",
          "text": [
            "Mounted at /content/drive\n",
            "You are using colab with tensorflow version 2.3.0\n"
          ],
          "name": "stdout"
        }
      ]
    },
    {
      "cell_type": "code",
      "metadata": {
        "id": "gpq-r-XWgCpl"
      },
      "source": [
        "#Keras model can be constructed in multiple ways depending on the number of inputs/outputs or degree of customization the user desires\n",
        "#to have. In this notbook we will focus on keras functional API"
      ],
      "execution_count": 2,
      "outputs": []
    },
    {
      "cell_type": "code",
      "metadata": {
        "id": "1rJktalmhKem"
      },
      "source": [
        "import tensorflow as tf\n",
        "from tensorflow.keras.models import Model, Sequential\n",
        "from tensorflow.keras.layers import Dense, Activation, Input, BatchNormalization, Dropout,MaxPooling2D, Conv2D\n",
        "import numpy as np\n",
        "import time\n"
      ],
      "execution_count": 3,
      "outputs": []
    },
    {
      "cell_type": "code",
      "metadata": {
        "id": "bAFOzaLxhstS"
      },
      "source": [
        "#Keras models by using functional API provides more freedom and flexibility to the model builder to customize accordingly especially\n",
        "#when we have shared layers or multiple inputs/outputs."
      ],
      "execution_count": 4,
      "outputs": []
    },
    {
      "cell_type": "code",
      "metadata": {
        "colab": {
          "base_uri": "https://localhost:8080/"
        },
        "id": "gfZAIfE5iYWz",
        "outputId": "2a8801c4-4115-45ee-fcad-2a9ba1924061"
      },
      "source": [
        "#Simple expample of multilayers perceptron using keras function API\n",
        "inputs = Input(shape = (560), name = 'input_shape')\n",
        "x = Dense(units = 64, kernel_initializer = 'random_normal', activation = 'relu',name = 'layer_1')(inputs)\n",
        "x = Dense(units = 32, kernel_initializer = 'random_normal', activation = 'relu', name = 'layer_2')(x)\n",
        "x = Dropout(rate = 0.2)(x)\n",
        "outputs = Dense(units = 4, activation = 'softmax')(x)\n",
        "model = Model(inputs = inputs, outputs = outputs)\n",
        "model.summary()"
      ],
      "execution_count": 5,
      "outputs": [
        {
          "output_type": "stream",
          "text": [
            "Model: \"functional_1\"\n",
            "_________________________________________________________________\n",
            "Layer (type)                 Output Shape              Param #   \n",
            "=================================================================\n",
            "input_shape (InputLayer)     [(None, 560)]             0         \n",
            "_________________________________________________________________\n",
            "layer_1 (Dense)              (None, 64)                35904     \n",
            "_________________________________________________________________\n",
            "layer_2 (Dense)              (None, 32)                2080      \n",
            "_________________________________________________________________\n",
            "dropout (Dropout)            (None, 32)                0         \n",
            "_________________________________________________________________\n",
            "dense (Dense)                (None, 4)                 132       \n",
            "=================================================================\n",
            "Total params: 38,116\n",
            "Trainable params: 38,116\n",
            "Non-trainable params: 0\n",
            "_________________________________________________________________\n"
          ],
          "name": "stdout"
        }
      ]
    },
    {
      "cell_type": "code",
      "metadata": {
        "colab": {
          "base_uri": "https://localhost:8080/",
          "height": 533
        },
        "id": "RfIOL6tllSF9",
        "outputId": "212b65a9-3afc-43e2-8811-e6b10ad5e197"
      },
      "source": [
        "#We can vissualize the model\n",
        "tf.keras.utils.plot_model(model, to_file = 'MLP.png',show_shapes = True)"
      ],
      "execution_count": 6,
      "outputs": [
        {
          "output_type": "execute_result",
          "data": {
            "image/png": "[encoded data removed]",
            "text/plain": [
              "<IPython.core.display.Image object>"
            ]
          },
          "metadata": {
            "tags": []
          },
          "execution_count": 6
        }
      ]
    },
    {
      "cell_type": "code",
      "metadata": {
        "id": "nvpuU_WZ0OSY"
      },
      "source": [
        "# A simple MLP neural network using keras functional API with mnist data\n",
        "inputs = Input(shape = (784), name = 'input_name')"
      ],
      "execution_count": 7,
      "outputs": []
    },
    {
      "cell_type": "markdown",
      "metadata": {
        "id": "5JNwDuSvVBIm"
      },
      "source": [
        ""
      ]
    },
    {
      "cell_type": "code",
      "metadata": {
        "id": "n4tlHsLb7_Y-"
      },
      "source": [
        "x = Dense(units = 256, kernel_initializer = 'random_normal',activation = 'relu', name = 'layer_1')(inputs)\n",
        "x = Dense(units = 128, kernel_initializer = 'random_normal', activation = 'relu', name = 'layer_2')(x)\n",
        "x = Dropout(rate = 0.2)(x)\n",
        "x = Dense(units = 64, kernel_initializer = 'random_normal',activation = 'relu', name = 'layer_3')(x)\n",
        "outputs = Dense(units = 10,activation = 'softmax', name = 'output_layer')(x)\n",
        "model = Model(inputs = inputs, outputs = outputs)\n",
        "\n"
      ],
      "execution_count": 8,
      "outputs": []
    },
    {
      "cell_type": "code",
      "metadata": {
        "colab": {
          "base_uri": "https://localhost:8080/"
        },
        "id": "GQaekUP9-Vag",
        "outputId": "bd9f634a-a06a-4554-b581-c7286e281ce0"
      },
      "source": [
        "model.summary()"
      ],
      "execution_count": 9,
      "outputs": [
        {
          "output_type": "stream",
          "text": [
            "Model: \"functional_3\"\n",
            "_________________________________________________________________\n",
            "Layer (type)                 Output Shape              Param #   \n",
            "=================================================================\n",
            "input_name (InputLayer)      [(None, 784)]             0         \n",
            "_________________________________________________________________\n",
            "layer_1 (Dense)              (None, 256)               200960    \n",
            "_________________________________________________________________\n",
            "layer_2 (Dense)              (None, 128)               32896     \n",
            "_________________________________________________________________\n",
            "dropout_1 (Dropout)          (None, 128)               0         \n",
            "_________________________________________________________________\n",
            "layer_3 (Dense)              (None, 64)                8256      \n",
            "_________________________________________________________________\n",
            "output_layer (Dense)         (None, 10)                650       \n",
            "=================================================================\n",
            "Total params: 242,762\n",
            "Trainable params: 242,762\n",
            "Non-trainable params: 0\n",
            "_________________________________________________________________\n"
          ],
          "name": "stdout"
        }
      ]
    },
    {
      "cell_type": "code",
      "metadata": {
        "id": "j1AnA8wq_gRE"
      },
      "source": [
        "x1 = tf.ones(shape = (2,784))"
      ],
      "execution_count": 10,
      "outputs": []
    },
    {
      "cell_type": "code",
      "metadata": {
        "colab": {
          "base_uri": "https://localhost:8080/"
        },
        "id": "TCy74iTuAvV6",
        "outputId": "afe3b534-55c6-4efb-c69a-b3407e76ea1e"
      },
      "source": [
        "#Testing our model on single fake image data format x1\n",
        "model(x1)"
      ],
      "execution_count": 11,
      "outputs": [
        {
          "output_type": "execute_result",
          "data": {
            "text/plain": [
              "<tf.Tensor: shape=(2, 10), dtype=float32, numpy=\n",
              "array([[0.08769606, 0.05859179, 0.09474136, 0.16323483, 0.10404268,\n",
              "        0.07830931, 0.10793   , 0.13869436, 0.09333635, 0.07342327],\n",
              "       [0.08769606, 0.05859179, 0.09474136, 0.16323483, 0.10404268,\n",
              "        0.07830931, 0.10793   , 0.13869436, 0.09333635, 0.07342327]],\n",
              "      dtype=float32)>"
            ]
          },
          "metadata": {
            "tags": []
          },
          "execution_count": 11
        }
      ]
    },
    {
      "cell_type": "code",
      "metadata": {
        "colab": {
          "base_uri": "https://localhost:8080/"
        },
        "id": "Por5i35uAzNI",
        "outputId": "bcb7e54f-358e-4947-dd22-a65b9c09ad58"
      },
      "source": [
        "#using our simple cnn model created by keras functional API on MNIST dataset\n",
        "#Loading the data\n",
        "(x_train,y_train), (x_test, y_test) = tf.keras.datasets.mnist.load_data()"
      ],
      "execution_count": 12,
      "outputs": [
        {
          "output_type": "stream",
          "text": [
            "Downloading data from https://storage.googleapis.com/tensorflow/tf-keras-datasets/mnist.npz\n",
            "11493376/11490434 [==============================] - 0s 0us/step\n"
          ],
          "name": "stdout"
        }
      ]
    },
    {
      "cell_type": "code",
      "metadata": {
        "colab": {
          "base_uri": "https://localhost:8080/"
        },
        "id": "j848pPITBw9x",
        "outputId": "70672e57-2c6b-4ab3-fe0b-582becf80f19"
      },
      "source": [
        "#Print out the shapes \n",
        "print(f\"x_train_shape: {x_train.shape}, y_train_shape: {y_train.shape}\\nx_test_shape :{x_test.shape}, y_test.shape: {y_test.shape}\")"
      ],
      "execution_count": 13,
      "outputs": [
        {
          "output_type": "stream",
          "text": [
            "x_train_shape: (60000, 28, 28), y_train_shape: (60000,)\n",
            "x_test_shape :(10000, 28, 28), y_test.shape: (10000,)\n"
          ],
          "name": "stdout"
        }
      ]
    },
    {
      "cell_type": "code",
      "metadata": {
        "id": "FeNju9oPDMvQ"
      },
      "source": [
        "x_train, x_test = x_train.reshape(60000,784).astype('float32')/255, x_test.reshape(10000,784).astype('float32')/255\n"
      ],
      "execution_count": 14,
      "outputs": []
    },
    {
      "cell_type": "code",
      "metadata": {
        "colab": {
          "base_uri": "https://localhost:8080/"
        },
        "id": "ztFk3fYhFNXA",
        "outputId": "c7a641dd-3a0c-49f7-9cbd-f798e091019f"
      },
      "source": [
        "x_train.shape, y_train.shape"
      ],
      "execution_count": 15,
      "outputs": [
        {
          "output_type": "execute_result",
          "data": {
            "text/plain": [
              "((60000, 784), (60000,))"
            ]
          },
          "metadata": {
            "tags": []
          },
          "execution_count": 15
        }
      ]
    },
    {
      "cell_type": "code",
      "metadata": {
        "id": "NbscGLcGDkPO"
      },
      "source": [
        "model.compile(loss = tf.keras.losses.SparseCategoricalCrossentropy(from_logits=True), optimizer = 'Adam', metrics = ['accuracy'])"
      ],
      "execution_count": 16,
      "outputs": []
    },
    {
      "cell_type": "code",
      "metadata": {
        "colab": {
          "base_uri": "https://localhost:8080/"
        },
        "id": "oEk_CBdNEj9e",
        "outputId": "41f22b74-1bd7-40de-86a6-fac2757f1fc6"
      },
      "source": [
        "model.fit(x_train, y_train, batch_size=16, epochs = 10, verbose = 2, validation_split=0.2)"
      ],
      "execution_count": 17,
      "outputs": [
        {
          "output_type": "stream",
          "text": [
            "Epoch 1/10\n",
            "3000/3000 - 6s - loss: 1.5882 - accuracy: 0.8767 - val_loss: 1.5329 - val_accuracy: 0.9274\n",
            "Epoch 2/10\n",
            "3000/3000 - 6s - loss: 1.5211 - accuracy: 0.9400 - val_loss: 1.5087 - val_accuracy: 0.9524\n",
            "Epoch 3/10\n",
            "3000/3000 - 6s - loss: 1.5118 - accuracy: 0.9493 - val_loss: 1.5097 - val_accuracy: 0.9509\n",
            "Epoch 4/10\n",
            "3000/3000 - 6s - loss: 1.5072 - accuracy: 0.9537 - val_loss: 1.5043 - val_accuracy: 0.9567\n",
            "Epoch 5/10\n",
            "3000/3000 - 6s - loss: 1.5064 - accuracy: 0.9545 - val_loss: 1.5163 - val_accuracy: 0.9447\n",
            "Epoch 6/10\n",
            "3000/3000 - 6s - loss: 1.5055 - accuracy: 0.9556 - val_loss: 1.5113 - val_accuracy: 0.9497\n",
            "Epoch 7/10\n",
            "3000/3000 - 7s - loss: 1.5069 - accuracy: 0.9541 - val_loss: 1.5120 - val_accuracy: 0.9488\n",
            "Epoch 8/10\n",
            "3000/3000 - 6s - loss: 1.5062 - accuracy: 0.9549 - val_loss: 1.5003 - val_accuracy: 0.9607\n",
            "Epoch 9/10\n",
            "3000/3000 - 6s - loss: 1.5026 - accuracy: 0.9584 - val_loss: 1.4990 - val_accuracy: 0.9620\n",
            "Epoch 10/10\n",
            "3000/3000 - 6s - loss: 1.5013 - accuracy: 0.9599 - val_loss: 1.4958 - val_accuracy: 0.9653\n"
          ],
          "name": "stdout"
        },
        {
          "output_type": "execute_result",
          "data": {
            "text/plain": [
              "<tensorflow.python.keras.callbacks.History at 0x7f85a00fedd8>"
            ]
          },
          "metadata": {
            "tags": []
          },
          "execution_count": 17
        }
      ]
    },
    {
      "cell_type": "code",
      "metadata": {
        "colab": {
          "base_uri": "https://localhost:8080/"
        },
        "id": "lafyENFJE1Zr",
        "outputId": "d6b2377a-3956-47d0-8371-4d8ddb29b6d5"
      },
      "source": [
        "eval = model.evaluate(x_test, y_test, verbose= 2)\n",
        "print(f\"loss = {eval[0]}\\naccuracy = {eval[1]}\")"
      ],
      "execution_count": 18,
      "outputs": [
        {
          "output_type": "stream",
          "text": [
            "313/313 - 1s - loss: 1.4971 - accuracy: 0.9639\n",
            "loss = 1.4970791339874268\n",
            "accuracy = 0.9639000296592712\n"
          ],
          "name": "stdout"
        }
      ]
    },
    {
      "cell_type": "code",
      "metadata": {
        "id": "A5VHrf0-Wkpf"
      },
      "source": [
        "#Multiple models on the same graph using keras functional API\n",
        "#We can define more than one model on the same graph like the case of encoder's decoder's models\n",
        "#We may want to scale down the image and decodes to obtain necessary features and finaly try to \n",
        "#reconstruct the image using the representative features (encoding).\n",
        "#Consider the example below"
      ],
      "execution_count": 19,
      "outputs": []
    },
    {
      "cell_type": "code",
      "metadata": {
        "id": "WJKR18Cnt9_2"
      },
      "source": [
        "from tensorflow.keras.layers import Dense, Activation, BatchNormalization\n",
        "from tensorflow.keras.layers import MaxPooling2D, GlobalMaxPooling2D, Conv2D,Reshape\n",
        "from tensorflow.keras.layers import Conv2DTranspose, Input, UpSampling2D\n",
        "from tensorflow.keras.models import Model\n"
      ],
      "execution_count": 20,
      "outputs": []
    },
    {
      "cell_type": "code",
      "metadata": {
        "id": "AXgV6zsgutw7"
      },
      "source": [
        "#Common input to the encoder and decoder\n",
        "inputs = Input(shape = (248,248,3), name = 'input_shape') #original image"
      ],
      "execution_count": 50,
      "outputs": []
    },
    {
      "cell_type": "code",
      "metadata": {
        "id": "8TekAleXvD1u"
      },
      "source": [
        "x = Conv2D(filters = 32, kernel_size = (3,3), strides = (2,2), padding = 'same', name = 'layer_1')(inputs)\n",
        "x = Activation('relu')(x)\n",
        "x = Conv2D(filters = 32, kernel_size = (3,3), strides = (2,2), padding = 'same', name = 'layer_2')(x)\n",
        "x = Activation('relu')(x)\n",
        "x = MaxPooling2D(pool_size = 3)(x)\n",
        "x = BatchNormalization()(x)\n",
        "x = Conv2D(filters = 16, kernel_size = (3,3), strides = (2,2), padding = 'same',activation = 'relu', name = 'layer_3')(x)\n",
        "x = MaxPooling2D(pool_size = 3)(x)\n",
        "encoder_out = GlobalMaxPooling2D()(x)"
      ],
      "execution_count": 51,
      "outputs": []
    },
    {
      "cell_type": "code",
      "metadata": {
        "id": "_QJibRb4xDIj"
      },
      "source": [
        "encoder = Model(inputs = inputs, outputs = encoder_out)"
      ],
      "execution_count": 52,
      "outputs": []
    },
    {
      "cell_type": "code",
      "metadata": {
        "id": "HcNdJmr8xiWb"
      },
      "source": [
        "decoder_input = Input(shape = (16,), name = 'input')\n",
        "x = Reshape((4,4,1))(decoder_input)\n",
        "x = Conv2DTranspose(filters = 16, kernel_size = (3,3), strides = (1,1),padding = 'same')(x)\n",
        "x = Activation('relu')(x)\n",
        "x = Conv2DTranspose(filters = 32, kernel_size = (3,3), strides = (1,1), padding = 'valid')(x)\n",
        "x = Activation('relu')(x)\n",
        "x = UpSampling2D(size = (3,3))(x)\n",
        "x = Conv2DTranspose(filters = 32, kernel_size = (3,3), strides = (1,1),padding = 'valid', activation = 'relu')(x)\n",
        "x = UpSampling2D(size = (6,6))(x)\n",
        "x = Conv2DTranspose(filters = 1, kernel_size = (3,3), activation = 'relu')(x)\n",
        "x = Conv2DTranspose(filters = 3, kernel_size = (3,3),activation = 'relu')(x) #Makesure you reconstruct the original image\n",
        "decoder_out = UpSampling2D(size = (2,2))(x)"
      ],
      "execution_count": 54,
      "outputs": []
    },
    {
      "cell_type": "code",
      "metadata": {
        "id": "nj93eL6k0lR3"
      },
      "source": [
        "decoder = Model(inputs = decoder_input, outputs = decoder_out)"
      ],
      "execution_count": 42,
      "outputs": []
    },
    {
      "cell_type": "code",
      "metadata": {
        "colab": {
          "base_uri": "https://localhost:8080/"
        },
        "id": "BFSp56M_z8s9",
        "outputId": "b14af512-58d5-440c-a73d-72bbe87f1406"
      },
      "source": [
        "encoder.summary()"
      ],
      "execution_count": 43,
      "outputs": [
        {
          "output_type": "stream",
          "text": [
            "Model: \"functional_12\"\n",
            "_________________________________________________________________\n",
            "Layer (type)                 Output Shape              Param #   \n",
            "=================================================================\n",
            "input_shape (InputLayer)     [(None, 248, 248, 3)]     0         \n",
            "_________________________________________________________________\n",
            "layer_1 (Conv2D)             (None, 124, 124, 32)      896       \n",
            "_________________________________________________________________\n",
            "activation_8 (Activation)    (None, 124, 124, 32)      0         \n",
            "_________________________________________________________________\n",
            "layer_2 (Conv2D)             (None, 62, 62, 32)        9248      \n",
            "_________________________________________________________________\n",
            "activation_9 (Activation)    (None, 62, 62, 32)        0         \n",
            "_________________________________________________________________\n",
            "max_pooling2d_4 (MaxPooling2 (None, 20, 20, 32)        0         \n",
            "_________________________________________________________________\n",
            "batch_normalization_2 (Batch (None, 20, 20, 32)        128       \n",
            "_________________________________________________________________\n",
            "layer_3 (Conv2D)             (None, 10, 10, 16)        4624      \n",
            "_________________________________________________________________\n",
            "max_pooling2d_5 (MaxPooling2 (None, 3, 3, 16)          0         \n",
            "_________________________________________________________________\n",
            "global_max_pooling2d_2 (Glob (None, 16)                0         \n",
            "=================================================================\n",
            "Total params: 14,896\n",
            "Trainable params: 14,832\n",
            "Non-trainable params: 64\n",
            "_________________________________________________________________\n"
          ],
          "name": "stdout"
        }
      ]
    },
    {
      "cell_type": "code",
      "metadata": {
        "colab": {
          "base_uri": "https://localhost:8080/"
        },
        "id": "XXkzAFYT0YCz",
        "outputId": "c20af8e4-b196-41cb-d8f0-51c4ab1e55e7"
      },
      "source": [
        "decoder.summary()"
      ],
      "execution_count": 44,
      "outputs": [
        {
          "output_type": "stream",
          "text": [
            "Model: \"functional_15\"\n",
            "_________________________________________________________________\n",
            "Layer (type)                 Output Shape              Param #   \n",
            "=================================================================\n",
            "input (InputLayer)           [(None, 16)]              0         \n",
            "_________________________________________________________________\n",
            "reshape_2 (Reshape)          (None, 4, 4, 1)           0         \n",
            "_________________________________________________________________\n",
            "conv2d_transpose_10 (Conv2DT (None, 4, 4, 16)          160       \n",
            "_________________________________________________________________\n",
            "activation_10 (Activation)   (None, 4, 4, 16)          0         \n",
            "_________________________________________________________________\n",
            "conv2d_transpose_11 (Conv2DT (None, 6, 6, 32)          4640      \n",
            "_________________________________________________________________\n",
            "activation_11 (Activation)   (None, 6, 6, 32)          0         \n",
            "_________________________________________________________________\n",
            "up_sampling2d_6 (UpSampling2 (None, 18, 18, 32)        0         \n",
            "_________________________________________________________________\n",
            "conv2d_transpose_12 (Conv2DT (None, 20, 20, 32)        9248      \n",
            "_________________________________________________________________\n",
            "up_sampling2d_7 (UpSampling2 (None, 120, 120, 32)      0         \n",
            "_________________________________________________________________\n",
            "conv2d_transpose_13 (Conv2DT (None, 122, 122, 1)       289       \n",
            "_________________________________________________________________\n",
            "conv2d_transpose_14 (Conv2DT (None, 124, 124, 3)       30        \n",
            "_________________________________________________________________\n",
            "up_sampling2d_8 (UpSampling2 (None, 248, 248, 3)       0         \n",
            "=================================================================\n",
            "Total params: 14,367\n",
            "Trainable params: 14,367\n",
            "Non-trainable params: 0\n",
            "_________________________________________________________________\n"
          ],
          "name": "stdout"
        }
      ]
    },
    {
      "cell_type": "code",
      "metadata": {
        "id": "mRLfjlJ70avV"
      },
      "source": [
        "#Finalization of the encoder-decoder model"
      ],
      "execution_count": 28,
      "outputs": []
    },
    {
      "cell_type": "code",
      "metadata": {
        "id": "KC5g3gTbFj7O"
      },
      "source": [
        "myinput = Input(shape = (248,248,3), name = 'input')\n",
        "myencoder = encoder(myinput)"
      ],
      "execution_count": 45,
      "outputs": []
    },
    {
      "cell_type": "code",
      "metadata": {
        "id": "187FuRBlF6E5"
      },
      "source": [
        "mydecoder = decoder(myencoder)"
      ],
      "execution_count": 46,
      "outputs": []
    },
    {
      "cell_type": "code",
      "metadata": {
        "id": "JcMnGsyzGG2T"
      },
      "source": [
        "encoder_decoder = Model(inputs = myinput, outputs = mydecoder) #Get the autoencoder model"
      ],
      "execution_count": 48,
      "outputs": []
    },
    {
      "cell_type": "code",
      "metadata": {
        "colab": {
          "base_uri": "https://localhost:8080/"
        },
        "id": "m1WcuvHGHgBy",
        "outputId": "3686d736-47df-476b-af0f-8b86dae804ba"
      },
      "source": [
        "encoder_decoder.summary()"
      ],
      "execution_count": 49,
      "outputs": [
        {
          "output_type": "stream",
          "text": [
            "Model: \"functional_18\"\n",
            "_________________________________________________________________\n",
            "Layer (type)                 Output Shape              Param #   \n",
            "=================================================================\n",
            "input (InputLayer)           [(None, 248, 248, 3)]     0         \n",
            "_________________________________________________________________\n",
            "functional_12 (Functional)   (None, 16)                14896     \n",
            "_________________________________________________________________\n",
            "functional_15 (Functional)   (None, 248, 248, 3)       14367     \n",
            "=================================================================\n",
            "Total params: 29,263\n",
            "Trainable params: 29,199\n",
            "Non-trainable params: 64\n",
            "_________________________________________________________________\n"
          ],
          "name": "stdout"
        }
      ]
    },
    {
      "cell_type": "code",
      "metadata": {
        "id": "zZOMj8kiJnOE"
      },
      "source": [
        "#Model with multiple outputs can also be created using functional API in keras\n",
        "#Consider the following Multilayer perceptrons\n",
        "def mlp_ensemble():\n",
        "  inputs = Input(shape = (128,), name = 'input_shape')\n",
        "  x = Dense(units = 32, kernel_initializer = 'random_normal', activation = 'relu', name = 'layer_1')(inputs)\n",
        "  x = Dense(units = 16, kernel_initializer = 'random_normal', activation = 'relu', name = 'layer_2')(x)\n",
        "  outputs = Dense(units = 10, activation = 'softmax', name = 'output_layer')(x)\n",
        "  return Model(inputs = inputs, outputs = outputs)"
      ],
      "execution_count": 66,
      "outputs": []
    },
    {
      "cell_type": "code",
      "metadata": {
        "id": "M4BJeIPaPL6i"
      },
      "source": [
        "m1 = mlp_ensemble()\n",
        "m2 = mlp_ensemble()\n",
        "m3 = mlp_ensemble()\n",
        "m4 = mlp_ensemble()\n",
        "m5 = mlp_ensemble()\n",
        "inputs = Input(shape = (128,), name = 'inputs')\n",
        "out_1 = m1(inputs)\n",
        "out_2 = m2(inputs)\n",
        "out_3 = m3(inputs)\n",
        "out_4 = m4(inputs)\n",
        "out_5 = m5(inputs)\n",
        "\n",
        "ensemble_outputs = tf.keras.layers.average([out_1, out_2, out_3, out_4, out_5]) #Averaging all the outputs layer if they relate to the same thing"
      ],
      "execution_count": 67,
      "outputs": []
    },
    {
      "cell_type": "code",
      "metadata": {
        "id": "VGBZl2WcP_uC"
      },
      "source": [
        "Ensemble_model = Model(inputs = inputs, outputs = ensemble_outputs, name = 'Ensemble_Model')"
      ],
      "execution_count": 68,
      "outputs": []
    },
    {
      "cell_type": "code",
      "metadata": {
        "colab": {
          "base_uri": "https://localhost:8080/"
        },
        "id": "bOjt7mlJR3VA",
        "outputId": "db084cf3-451d-41a2-f233-66a43aefe765"
      },
      "source": [
        "Ensemble_model.summary()"
      ],
      "execution_count": 69,
      "outputs": [
        {
          "output_type": "stream",
          "text": [
            "Model: \"Ensemble_Model\"\n",
            "__________________________________________________________________________________________________\n",
            "Layer (type)                    Output Shape         Param #     Connected to                     \n",
            "==================================================================================================\n",
            "inputs (InputLayer)             [(None, 128)]        0                                            \n",
            "__________________________________________________________________________________________________\n",
            "functional_22 (Functional)      (None, 10)           4826        inputs[0][0]                     \n",
            "__________________________________________________________________________________________________\n",
            "functional_24 (Functional)      (None, 10)           4826        inputs[0][0]                     \n",
            "__________________________________________________________________________________________________\n",
            "functional_26 (Functional)      (None, 10)           4826        inputs[0][0]                     \n",
            "__________________________________________________________________________________________________\n",
            "functional_28 (Functional)      (None, 10)           4826        inputs[0][0]                     \n",
            "__________________________________________________________________________________________________\n",
            "functional_30 (Functional)      (None, 10)           4826        inputs[0][0]                     \n",
            "__________________________________________________________________________________________________\n",
            "average_3 (Average)             (None, 10)           0           functional_22[0][0]              \n",
            "                                                                 functional_24[0][0]              \n",
            "                                                                 functional_26[0][0]              \n",
            "                                                                 functional_28[0][0]              \n",
            "                                                                 functional_30[0][0]              \n",
            "==================================================================================================\n",
            "Total params: 24,130\n",
            "Trainable params: 24,130\n",
            "Non-trainable params: 0\n",
            "__________________________________________________________________________________________________\n"
          ],
          "name": "stdout"
        }
      ]
    },
    {
      "cell_type": "code",
      "metadata": {
        "id": "SHNwPJlKSGat"
      },
      "source": [
        ""
      ],
      "execution_count": null,
      "outputs": []
    }
  ]
}