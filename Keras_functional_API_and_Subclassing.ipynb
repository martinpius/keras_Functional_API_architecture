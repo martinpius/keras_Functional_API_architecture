{
  "nbformat": 4,
  "nbformat_minor": 0,
  "metadata": {
    "colab": {
      "name": "Keras functional API and Subclassing.ipynb",
      "provenance": [],
      "authorship_tag": "ABX9TyNIOSMeDVt3Y38K1+gfs73q",
      "include_colab_link": true
    },
    "kernelspec": {
      "name": "python3",
      "display_name": "Python 3"
    }
  },
  "cells": [
    {
      "cell_type": "markdown",
      "metadata": {
        "id": "view-in-github",
        "colab_type": "text"
      },
      "source": [
        "<a href=\"https://colab.research.google.com/github/martinpius/keras_Functional_API_architecture/blob/main/Keras_functional_API_and_Subclassing.ipynb\" target=\"_parent\"><img src=\"https://colab.research.google.com/assets/colab-badge.svg\" alt=\"Open In Colab\"/></a>"
      ]
    },
    {
      "cell_type": "code",
      "metadata": {
        "colab": {
          "base_uri": "https://localhost:8080/"
        },
        "id": "sQwz_UAqz9lj",
        "outputId": "2fd21673-af12-4e80-83f8-ae96cb295007"
      },
      "source": [
        "from google.colab import drive\n",
        "try:\n",
        "  drive.mount(\"/content/drive/\", force_remount = True)\n",
        "  COLAB = True\n",
        "  import tensorflow\n",
        "  print(f\"You are on google colab with tensorflow version {tensorflow.__version__}\")\n",
        "except Exception as e:\n",
        "  COLAB = False\n",
        "  print(f\"{type(e)}: {e}\\n....Please Load your Drive....\")\n",
        "\n",
        "def time_fmt(t):\n",
        "  h = int(t / (60 * 60))\n",
        "  m = int(t % (60 * 60)/60)\n",
        "  s = int(t % 60)\n",
        "  return f\"{h}: {m:>03}: {s:>05.2f}\""
      ],
      "execution_count": 3,
      "outputs": [
        {
          "output_type": "stream",
          "text": [
            "Mounted at /content/drive/\n",
            "You are on google colab with tensorflow version 2.3.0\n"
          ],
          "name": "stdout"
        }
      ]
    },
    {
      "cell_type": "code",
      "metadata": {
        "id": "6w_3zbr31XAQ"
      },
      "source": [
        "import tensorflow as tf\n",
        "import time\n",
        "from tensorflow import keras\n",
        "import numpy as np"
      ],
      "execution_count": 4,
      "outputs": []
    },
    {
      "cell_type": "code",
      "metadata": {
        "id": "pqDebr_M15OG"
      },
      "source": [
        "#RNN from scatch. Lets build a simple RNN from scratch\n",
        "units = 64\n",
        "inputs_shape = 5\n",
        "time_steps = 20\n",
        "inputs = keras.Input(shape = (None, units), name = 'input_shape')\n",
        "x = keras.layers.GlobalAveragePooling1D()(inputs)\n",
        "outputs = keras.layers.Dense(units = 1)(x)\n",
        "model = keras.models.Model(inputs = inputs, outputs = outputs)\n"
      ],
      "execution_count": 5,
      "outputs": []
    },
    {
      "cell_type": "code",
      "metadata": {
        "colab": {
          "base_uri": "https://localhost:8080/"
        },
        "id": "--zKYEXs249S",
        "outputId": "ae7e885a-15c5-4221-8ae1-f6572fc9e05d"
      },
      "source": [
        "class MyRNN(keras.layers.Layer):\n",
        "  def __init__(self):\n",
        "    super(MyRNN, self).__init__()\n",
        "    self.units = units\n",
        "    self.trf_1 = keras.layers.Dense(units = units, activation = 'tanh')\n",
        "    self.trf_2 = keras.layers.Dense(units = units, activation = 'tanh')\n",
        "    self.myclass = model\n",
        "  \n",
        "  def call(self, inputs):\n",
        "    outputs = []\n",
        "    state = tf.zeros(shape = (inputs.shape[0], self.units))\n",
        "    for t in range(inputs.shape[1]):\n",
        "      x = inputs[:, t, :]\n",
        "      h = self.trf_1(x)\n",
        "      y = h + self.trf_2(state)\n",
        "      state = y\n",
        "      outputs.append(y)\n",
        "      features = tf.stack(outputs, axis = 1)\n",
        "      print(features.shape)\n",
        "      return self.myclass(features)\n",
        "\n",
        "myrnn = MyRNN()\n",
        "myrnn(tf.zeros(shape = (1, time_steps, units)))"
      ],
      "execution_count": 6,
      "outputs": [
        {
          "output_type": "stream",
          "text": [
            "(1, 1, 64)\n"
          ],
          "name": "stdout"
        },
        {
          "output_type": "execute_result",
          "data": {
            "text/plain": [
              "<tf.Tensor: shape=(1, 1), dtype=float32, numpy=array([[0.]], dtype=float32)>"
            ]
          },
          "metadata": {
            "tags": []
          },
          "execution_count": 6
        }
      ]
    },
    {
      "cell_type": "code",
      "metadata": {
        "id": "5Wt51ZMm5pD7"
      },
      "source": [
        "#training, evaluation and inference loops using API\n",
        "#Demo with the mnist dataset from keras"
      ],
      "execution_count": 7,
      "outputs": []
    },
    {
      "cell_type": "code",
      "metadata": {
        "colab": {
          "base_uri": "https://localhost:8080/"
        },
        "id": "4X7zKteIGIyc",
        "outputId": "f6f6b631-0cbf-4c2d-c152-1815d66065b8"
      },
      "source": [
        "#Loading the data\n",
        "print(f'.....loading....')\n",
        "(x_train, y_train),(x_test, y_test) = tf.keras.datasets.mnist.load_data()"
      ],
      "execution_count": 38,
      "outputs": [
        {
          "output_type": "stream",
          "text": [
            ".....loading....\n"
          ],
          "name": "stdout"
        }
      ]
    },
    {
      "cell_type": "code",
      "metadata": {
        "colab": {
          "base_uri": "https://localhost:8080/"
        },
        "id": "xXPzRRiGGwMj",
        "outputId": "8e155cfe-ce9b-495b-a78a-50b3116ad803"
      },
      "source": [
        "print(f\"x_train.shape: {x_train.shape}, y_train.shape: {y_train.shape}\\nxtest.shape: {x_test.shape}, y_test.shape: {y_test.shape}\")"
      ],
      "execution_count": 39,
      "outputs": [
        {
          "output_type": "stream",
          "text": [
            "x_train.shape: (60000, 28, 28), y_train.shape: (60000,)\n",
            "xtest.shape: (10000, 28, 28), y_test.shape: (10000,)\n"
          ],
          "name": "stdout"
        }
      ]
    },
    {
      "cell_type": "code",
      "metadata": {
        "id": "fQCxeCC_HSzr"
      },
      "source": [
        "#Reshape and preprocess the data\n",
        "(x_train, x_test) = x_train.reshape(60000, 784), x_test.reshape(10000,784)"
      ],
      "execution_count": 40,
      "outputs": []
    },
    {
      "cell_type": "code",
      "metadata": {
        "id": "sXWCwgHcH04h"
      },
      "source": [
        "y_train, y_test = tf.keras.utils.to_categorical(y_train, num_classes = 10), tf.keras.utils.to_categorical(y_test, num_classes= 10)\n"
      ],
      "execution_count": 37,
      "outputs": []
    },
    {
      "cell_type": "code",
      "metadata": {
        "id": "qKBsq1c7ISHT"
      },
      "source": [
        "#We will fit our data in memory so we can change to numy arrays to economize the memory usage\n",
        "x_train, x_test = x_train.astype('float32'), x_test.astype('float32')"
      ],
      "execution_count": 41,
      "outputs": []
    },
    {
      "cell_type": "code",
      "metadata": {
        "id": "7koMQDVLIv3L"
      },
      "source": [
        "#Scale the data into 0-1 range to serve training complexity\n",
        "x_train, x_test = x_train/255, x_test/255"
      ],
      "execution_count": 42,
      "outputs": []
    },
    {
      "cell_type": "code",
      "metadata": {
        "id": "hCCGDjQsJdYA"
      },
      "source": [
        "#Now we can build a simple MLP to fit our data\n",
        "inputs = keras.Input(shape = (784,), name = 'input_shape')\n",
        "x = keras.layers.Dense(units = 64, kernel_initializer = 'random_normal',activation = 'relu',name = 'layer_1')(inputs)\n",
        "x = keras.layers.Dense(units = 64, kernel_initializer = 'random_normal', activation = 'relu', name = 'layer_2')(x)\n",
        "outputs = keras.layers.Dense(units = 10, activation = 'softmax', name = 'outputs')(x)\n",
        "model = keras.models.Model(inputs = inputs, outputs = outputs)\n"
      ],
      "execution_count": 14,
      "outputs": []
    },
    {
      "cell_type": "code",
      "metadata": {
        "colab": {
          "base_uri": "https://localhost:8080/"
        },
        "id": "uoOBA_emLAOm",
        "outputId": "cdd5f1d3-a325-4bd4-cf18-1b89a8a3c04e"
      },
      "source": [
        "model.summary()"
      ],
      "execution_count": 15,
      "outputs": [
        {
          "output_type": "stream",
          "text": [
            "Model: \"functional_3\"\n",
            "_________________________________________________________________\n",
            "Layer (type)                 Output Shape              Param #   \n",
            "=================================================================\n",
            "input_shape (InputLayer)     [(None, 784)]             0         \n",
            "_________________________________________________________________\n",
            "layer_1 (Dense)              (None, 64)                50240     \n",
            "_________________________________________________________________\n",
            "layer_2 (Dense)              (None, 64)                4160      \n",
            "_________________________________________________________________\n",
            "outputs (Dense)              (None, 10)                650       \n",
            "=================================================================\n",
            "Total params: 55,050\n",
            "Trainable params: 55,050\n",
            "Non-trainable params: 0\n",
            "_________________________________________________________________\n"
          ],
          "name": "stdout"
        }
      ]
    },
    {
      "cell_type": "code",
      "metadata": {
        "id": "Wdp7QylBLF8Z"
      },
      "source": [
        "#compile our model\n",
        "model.compile(loss = 'CategoricalCrossentropy', optimizer = 'Adam', metrics = ['accuracy'])\n"
      ],
      "execution_count": 16,
      "outputs": []
    },
    {
      "cell_type": "code",
      "metadata": {
        "colab": {
          "base_uri": "https://localhost:8080/"
        },
        "id": "SqKW-OYXLvFL",
        "outputId": "a24eacf4-cd6a-462d-b27d-cb54f8be6452"
      },
      "source": [
        "#fit the data to our model\n",
        "info_out = model.fit(x_train, y_train,validation_data = (x_test, y_test), verbose = 2, epochs = 10)"
      ],
      "execution_count": 17,
      "outputs": [
        {
          "output_type": "stream",
          "text": [
            "Epoch 1/10\n",
            "1875/1875 - 3s - loss: 0.2898 - accuracy: 0.9169 - val_loss: 0.1615 - val_accuracy: 0.9526\n",
            "Epoch 2/10\n",
            "1875/1875 - 3s - loss: 0.1261 - accuracy: 0.9614 - val_loss: 0.1286 - val_accuracy: 0.9592\n",
            "Epoch 3/10\n",
            "1875/1875 - 3s - loss: 0.0911 - accuracy: 0.9723 - val_loss: 0.1023 - val_accuracy: 0.9673\n",
            "Epoch 4/10\n",
            "1875/1875 - 3s - loss: 0.0720 - accuracy: 0.9780 - val_loss: 0.1098 - val_accuracy: 0.9665\n",
            "Epoch 5/10\n",
            "1875/1875 - 3s - loss: 0.0586 - accuracy: 0.9812 - val_loss: 0.0938 - val_accuracy: 0.9722\n",
            "Epoch 6/10\n",
            "1875/1875 - 3s - loss: 0.0484 - accuracy: 0.9846 - val_loss: 0.0852 - val_accuracy: 0.9744\n",
            "Epoch 7/10\n",
            "1875/1875 - 3s - loss: 0.0412 - accuracy: 0.9866 - val_loss: 0.0943 - val_accuracy: 0.9735\n",
            "Epoch 8/10\n",
            "1875/1875 - 3s - loss: 0.0354 - accuracy: 0.9881 - val_loss: 0.0881 - val_accuracy: 0.9768\n",
            "Epoch 9/10\n",
            "1875/1875 - 3s - loss: 0.0307 - accuracy: 0.9895 - val_loss: 0.0931 - val_accuracy: 0.9752\n",
            "Epoch 10/10\n",
            "1875/1875 - 3s - loss: 0.0275 - accuracy: 0.9905 - val_loss: 0.0975 - val_accuracy: 0.9733\n"
          ],
          "name": "stdout"
        }
      ]
    },
    {
      "cell_type": "code",
      "metadata": {
        "colab": {
          "base_uri": "https://localhost:8080/",
          "height": 697
        },
        "id": "LPDSz3uhMFqL",
        "outputId": "0bf5e0b1-db32-4b3c-eab7-8603b29aa0e9"
      },
      "source": [
        "display(info_out.history)"
      ],
      "execution_count": 18,
      "outputs": [
        {
          "output_type": "display_data",
          "data": {
            "text/plain": [
              "{'accuracy': [0.9168999791145325,\n",
              "  0.9614333510398865,\n",
              "  0.972266674041748,\n",
              "  0.9779833555221558,\n",
              "  0.9812333583831787,\n",
              "  0.98458331823349,\n",
              "  0.9865999817848206,\n",
              "  0.9881333112716675,\n",
              "  0.989466667175293,\n",
              "  0.9905333518981934],\n",
              " 'loss': [0.28983160853385925,\n",
              "  0.12610550224781036,\n",
              "  0.09114266186952591,\n",
              "  0.07196151465177536,\n",
              "  0.0586111806333065,\n",
              "  0.048396993428468704,\n",
              "  0.041168373078107834,\n",
              "  0.035381220281124115,\n",
              "  0.030723676085472107,\n",
              "  0.027524393051862717],\n",
              " 'val_accuracy': [0.9526000022888184,\n",
              "  0.9592000246047974,\n",
              "  0.9672999978065491,\n",
              "  0.9664999842643738,\n",
              "  0.9721999764442444,\n",
              "  0.974399983882904,\n",
              "  0.9735000133514404,\n",
              "  0.9768000245094299,\n",
              "  0.9751999974250793,\n",
              "  0.9732999801635742],\n",
              " 'val_loss': [0.16146746277809143,\n",
              "  0.1285717487335205,\n",
              "  0.10226282477378845,\n",
              "  0.10979767143726349,\n",
              "  0.0937642976641655,\n",
              "  0.08517073094844818,\n",
              "  0.09428945928812027,\n",
              "  0.08814976364374161,\n",
              "  0.09309753775596619,\n",
              "  0.09753544628620148]}"
            ]
          },
          "metadata": {
            "tags": []
          }
        }
      ]
    },
    {
      "cell_type": "code",
      "metadata": {
        "colab": {
          "base_uri": "https://localhost:8080/"
        },
        "id": "_LeYAnbmPIwc",
        "outputId": "8259962b-3a78-4586-b885-501b8746358d"
      },
      "source": [
        "#evaluate the model using the test data\n",
        "eval = model.evaluate(x_test, y_test, batch_size= 64, verbose = 2)"
      ],
      "execution_count": 19,
      "outputs": [
        {
          "output_type": "stream",
          "text": [
            "157/157 - 0s - loss: 0.0975 - accuracy: 0.9733\n"
          ],
          "name": "stdout"
        }
      ]
    },
    {
      "cell_type": "code",
      "metadata": {
        "colab": {
          "base_uri": "https://localhost:8080/"
        },
        "id": "Cru8EAZ5RjEd",
        "outputId": "99960468-de12-4756-8ea1-1dfb7fb416a2"
      },
      "source": [
        "print(f\"loss: {eval[0]:.4f}\\naccuracy: {eval[1]:.4f}\")"
      ],
      "execution_count": 20,
      "outputs": [
        {
          "output_type": "stream",
          "text": [
            "loss: 0.0975\n",
            "accuracy: 0.9733\n"
          ],
          "name": "stdout"
        }
      ]
    },
    {
      "cell_type": "code",
      "metadata": {
        "colab": {
          "base_uri": "https://localhost:8080/"
        },
        "id": "lc4O8iO1Ry8u",
        "outputId": "a71a54d3-349f-44a0-b6d0-09b16679e94f"
      },
      "source": [
        "#Get some predictions to see what real the model does\n",
        "pred = model.predict(x_test[:2])\n",
        "print(f\"real_value: {x_test[:2]}\\npredicted_value: {pred}\")"
      ],
      "execution_count": 21,
      "outputs": [
        {
          "output_type": "stream",
          "text": [
            "real_value: [[0. 0. 0. ... 0. 0. 0.]\n",
            " [0. 0. 0. ... 0. 0. 0.]]\n",
            "predicted_value: [[1.6469119e-10 4.0964516e-09 3.1635614e-07 1.3155272e-06 1.0526840e-13\n",
            "  9.4298257e-11 5.8410590e-18 9.9999809e-01 2.9756966e-09 2.6966839e-07]\n",
            " [1.3450781e-07 4.1044338e-11 9.9999452e-01 5.2791496e-08 6.8916590e-22\n",
            "  1.4107991e-08 1.9278250e-09 2.7737401e-16 5.2833852e-06 4.6048100e-12]]\n"
          ],
          "name": "stdout"
        }
      ]
    },
    {
      "cell_type": "code",
      "metadata": {
        "id": "hpg6m7q4SyOK"
      },
      "source": [
        "# We may want to call the training step multiple times\n",
        "# i.e when we carries out model's turning we may want to try several optimization techniques and therefore it may\n",
        "# be necessary to write a simple function which will hold both our pre-compiled and compiled model"
      ],
      "execution_count": 22,
      "outputs": []
    },
    {
      "cell_type": "code",
      "metadata": {
        "id": "W6N53Em4gNKl"
      },
      "source": [
        "def get_pre_compiled_model():\n",
        "  inputs = keras.Input(shape = (784,), name = 'input_shape')\n",
        "  x = keras.layers.Dense(units = 64, kernel_initializer = 'random_normal', activation = 'relu', name = 'layer_1')(inputs)\n",
        "  x = keras.layers.Dense(units = 64, kernel_initializer = 'random_normal', activation = 'relu', name = 'layer_2')(x)\n",
        "  outputs = keras.layers.Dense(units = 10, activation = 'softmax', name = 'classes')(x)\n",
        "  return keras.models.Model(inputs = inputs, outputs = outputs, name = 'MLP')\n",
        "\n",
        "def get_compiled_model():\n",
        "  model = get_pre_compiled_model() #get the precompiled model\n",
        "  model.compile(loss = 'Categorical_Crossentropy',\n",
        "                        optimizer = 'Adam',\n",
        "                        metrics = ['accuracy'])\n",
        "  return model # return the compiled model.\n"
      ],
      "execution_count": 23,
      "outputs": []
    },
    {
      "cell_type": "code",
      "metadata": {
        "id": "tKH-Eeo7iBg-"
      },
      "source": [
        "#try out our functions\n",
        "model = get_pre_compiled_model()"
      ],
      "execution_count": 24,
      "outputs": []
    },
    {
      "cell_type": "code",
      "metadata": {
        "colab": {
          "base_uri": "https://localhost:8080/"
        },
        "id": "pkXPp4dyiN9d",
        "outputId": "09d8842f-e5e8-41cf-be7c-ef04715c74be"
      },
      "source": [
        "model.summary()"
      ],
      "execution_count": 25,
      "outputs": [
        {
          "output_type": "stream",
          "text": [
            "Model: \"MLP\"\n",
            "_________________________________________________________________\n",
            "Layer (type)                 Output Shape              Param #   \n",
            "=================================================================\n",
            "input_shape (InputLayer)     [(None, 784)]             0         \n",
            "_________________________________________________________________\n",
            "layer_1 (Dense)              (None, 64)                50240     \n",
            "_________________________________________________________________\n",
            "layer_2 (Dense)              (None, 64)                4160      \n",
            "_________________________________________________________________\n",
            "classes (Dense)              (None, 10)                650       \n",
            "=================================================================\n",
            "Total params: 55,050\n",
            "Trainable params: 55,050\n",
            "Non-trainable params: 0\n",
            "_________________________________________________________________\n"
          ],
          "name": "stdout"
        }
      ]
    },
    {
      "cell_type": "code",
      "metadata": {
        "colab": {
          "base_uri": "https://localhost:8080/"
        },
        "id": "jWlNTSjwjNVS",
        "outputId": "8d161fed-6863-4889-ae37-1aee0b7de748"
      },
      "source": [
        "print(get_compiled_model())"
      ],
      "execution_count": 26,
      "outputs": [
        {
          "output_type": "stream",
          "text": [
            "<tensorflow.python.keras.engine.functional.Functional object at 0x7ff6723540b8>\n"
          ],
          "name": "stdout"
        }
      ]
    },
    {
      "cell_type": "code",
      "metadata": {
        "id": "VnAnr-CwjbkO"
      },
      "source": [
        "#Customized loss. keras API has many alternative ready made losses functions \n",
        "#however, we may be interersted to design our own loss functions from scratch"
      ],
      "execution_count": 27,
      "outputs": []
    },
    {
      "cell_type": "code",
      "metadata": {
        "id": "xsA07XXllrd1"
      },
      "source": [
        "def my_loss(y_real, y_hat):\n",
        "  loss = tf.math.reduce_mean(tf.square(y_real-y_hat)) #The simplest loss function is l2 norm\n",
        "  return loss"
      ],
      "execution_count": 28,
      "outputs": []
    },
    {
      "cell_type": "code",
      "metadata": {
        "id": "4_8lP6NZmiMo"
      },
      "source": [
        "# We may use this loss in our model like as follow\n",
        "model = get_pre_compiled_model()"
      ],
      "execution_count": 29,
      "outputs": []
    },
    {
      "cell_type": "code",
      "metadata": {
        "id": "Kcv5eavWr5nA"
      },
      "source": [
        "model.compile(loss = my_loss, optimizer= 'Adam')"
      ],
      "execution_count": 30,
      "outputs": []
    },
    {
      "cell_type": "code",
      "metadata": {
        "id": "y2GZWpajsn9c"
      },
      "source": [
        "y_train_hot = tf.one_hot(y_train, depth = 10)"
      ],
      "execution_count": 43,
      "outputs": []
    },
    {
      "cell_type": "code",
      "metadata": {
        "colab": {
          "base_uri": "https://localhost:8080/"
        },
        "id": "Vstawqb1s-Za",
        "outputId": "f61760a1-03f5-437d-b7f4-23b8f5c300b4"
      },
      "source": [
        "model.fit(x_train, y_train, batch_size = 64, verbose = 2, epochs = 5,validation_split=0.2)"
      ],
      "execution_count": 32,
      "outputs": [
        {
          "output_type": "stream",
          "text": [
            "Epoch 1/5\n",
            "750/750 - 2s - loss: 0.0167 - val_loss: 0.0099\n",
            "Epoch 2/5\n",
            "750/750 - 1s - loss: 0.0082 - val_loss: 0.0070\n",
            "Epoch 3/5\n",
            "750/750 - 1s - loss: 0.0061 - val_loss: 0.0058\n",
            "Epoch 4/5\n",
            "750/750 - 1s - loss: 0.0049 - val_loss: 0.0053\n",
            "Epoch 5/5\n",
            "750/750 - 1s - loss: 0.0042 - val_loss: 0.0053\n"
          ],
          "name": "stdout"
        },
        {
          "output_type": "execute_result",
          "data": {
            "text/plain": [
              "<tensorflow.python.keras.callbacks.History at 0x7ff66f451e80>"
            ]
          },
          "metadata": {
            "tags": []
          },
          "execution_count": 32
        }
      ]
    },
    {
      "cell_type": "code",
      "metadata": {
        "id": "O1nbEhwftWbU"
      },
      "source": [
        "#Customized loss with an added regulirizer\n",
        "#It is possible to add an aditioal parameters to the argument list of a loss function by subclassing the loss\n"
      ],
      "execution_count": 33,
      "outputs": []
    },
    {
      "cell_type": "code",
      "metadata": {
        "id": "tFqdfmpL8ali"
      },
      "source": [
        "class MyLoss(keras.losses.Loss):\n",
        "  def __init__(self, factor = 0.1, **kwargs):#Here we can include any number of parameters we needed to comput our loss\n",
        "    super().__init__(**kwargs)\n",
        "    self.factor = factor #Adjust a loss by adding a factor which is the maximum distance of the predicted value from the centre\n",
        "  \n",
        "  def call(self, y_real, y_hat):\n",
        "    loss = tf.math.reduce_mean(tf.square(y_real - y_hat))\n",
        "    reg = tf.math.reduce_mean(tf.square(0.5 - y_hat)) # compute the devience from the centre (0.5)\n",
        "    loss_total = loss + reg* self.factor\n",
        "    return loss_total\n"
      ],
      "execution_count": 34,
      "outputs": []
    },
    {
      "cell_type": "code",
      "metadata": {
        "colab": {
          "base_uri": "https://localhost:8080/"
        },
        "id": "S3vqLxlw_BIT",
        "outputId": "bd6073fd-ba72-4a41-f6b1-d57e9d22357e"
      },
      "source": [
        "mymodel = get_pre_compiled_model()\n",
        "mymodel.compile(loss = MyLoss(), optimizer = 'Adam')\n",
        "mymodel.fit(x_train, y_train_hot, batch_size = 64, epochs = 3, verbose = 2, validation_split=0.2)"
      ],
      "execution_count": 44,
      "outputs": [
        {
          "output_type": "stream",
          "text": [
            "Epoch 1/3\n",
            "750/750 - 2s - loss: 0.0405 - val_loss: 0.0330\n",
            "Epoch 2/3\n",
            "750/750 - 2s - loss: 0.0322 - val_loss: 0.0308\n",
            "Epoch 3/3\n",
            "750/750 - 2s - loss: 0.0302 - val_loss: 0.0301\n"
          ],
          "name": "stdout"
        },
        {
          "output_type": "execute_result",
          "data": {
            "text/plain": [
              "<tensorflow.python.keras.callbacks.History at 0x7ff66df52c18>"
            ]
          },
          "metadata": {
            "tags": []
          },
          "execution_count": 44
        }
      ]
    },
    {
      "cell_type": "code",
      "metadata": {
        "id": "o173qNYtpqBS"
      },
      "source": [
        "#Customized metric:\n",
        "#We can also write our own metric depend on the research area. Some metrics may require some additional \n",
        "#variables defined by the user to suit his study. We can implement the metric by subclassing as follows\n"
      ],
      "execution_count": null,
      "outputs": []
    },
    {
      "cell_type": "code",
      "metadata": {
        "id": "Q85KJr5frFvg"
      },
      "source": [
        "class Custom_Metrics(keras.metrics.Metric):\n",
        "  def __init__(self, name = 'cat_true_positive', **kwargs):\n",
        "    super(Custom_Metrics, self).__init__(name = name, **kwargs)\n",
        "    self.true_pos = self.add_weight(name = 'initial_weights', initializer = 'zeros')#initializing the weights to zero\n",
        "\n",
        "  def update_state(self, y_real, y_hat, sample_weight = None):\n",
        "    y_hat = tf.reshape(tf.argmax(y_hat, axis = 1), shape = (-1,1)) #grabs only true possitive (predictions which are maximum)\n",
        "    values = tf.cast(y_real, 'int32')==tf.cast(y_hat, 'int32') #return a boolian and reuslt will be tru for true possitive\n",
        "    values = tf.cast(values, 'float32') #convert to float to allow the maths\n",
        "    if sample_weight is not None:\n",
        "      sample_weight = tf.cast(sample_weight, 'float32')\n",
        "      values = tf.multiply(values, sample_weight)#updating is actually happening here\n",
        "    self.true_pos.assign_add(tf.reduce_sum(values))# increment by total values\n",
        "  \n",
        "  def result(self):\n",
        "    return self.true_pos\n",
        "\n",
        "  def reset_states(self):\n",
        "    self.true_pos.assign_add(0.0) #reset the state to 0 every time new epoch begins\n"
      ],
      "execution_count": 66,
      "outputs": []
    },
    {
      "cell_type": "code",
      "metadata": {
        "id": "4jWDRawh75Wy"
      },
      "source": [
        "model = get_pre_compiled_model()"
      ],
      "execution_count": 67,
      "outputs": []
    },
    {
      "cell_type": "code",
      "metadata": {
        "colab": {
          "base_uri": "https://localhost:8080/"
        },
        "id": "pc3hGFBA5ZSw",
        "outputId": "92dfa3fd-4926-49ba-c87f-bb1a44fb6679"
      },
      "source": [
        "model.summary()"
      ],
      "execution_count": 68,
      "outputs": [
        {
          "output_type": "stream",
          "text": [
            "Model: \"MLP\"\n",
            "_________________________________________________________________\n",
            "Layer (type)                 Output Shape              Param #   \n",
            "=================================================================\n",
            "input_shape (InputLayer)     [(None, 784)]             0         \n",
            "_________________________________________________________________\n",
            "layer_1 (Dense)              (None, 64)                50240     \n",
            "_________________________________________________________________\n",
            "layer_2 (Dense)              (None, 64)                4160      \n",
            "_________________________________________________________________\n",
            "classes (Dense)              (None, 10)                650       \n",
            "=================================================================\n",
            "Total params: 55,050\n",
            "Trainable params: 55,050\n",
            "Non-trainable params: 0\n",
            "_________________________________________________________________\n"
          ],
          "name": "stdout"
        }
      ]
    },
    {
      "cell_type": "code",
      "metadata": {
        "id": "BRYTK0nU4zsg"
      },
      "source": [
        "model.compile(loss = MyLoss(),\n",
        "              metrics = [Custom_Metrics()],\n",
        "              optimizer = 'Adam')"
      ],
      "execution_count": 69,
      "outputs": []
    },
    {
      "cell_type": "code",
      "metadata": {
        "colab": {
          "base_uri": "https://localhost:8080/"
        },
        "id": "dnZzan7O5G2q",
        "outputId": "4ad94164-d5ac-46cb-cbe3-65fab004ab06"
      },
      "source": [
        "model.fit(x_train, y_train_hot,validation_split = 0.2, verbose = 2, epochs = 2, batch_size = 64)"
      ],
      "execution_count": 70,
      "outputs": [
        {
          "output_type": "stream",
          "text": [
            "Epoch 1/2\n",
            "750/750 - 2s - loss: 0.0398 - cat_true_positive: 53046.0000 - val_loss: 0.0326 - val_cat_true_positive: 65690.0000\n",
            "Epoch 2/2\n",
            "750/750 - 2s - loss: 0.0318 - cat_true_positive: 113968.0000 - val_loss: 0.0307 - val_cat_true_positive: 126280.0000\n"
          ],
          "name": "stdout"
        },
        {
          "output_type": "execute_result",
          "data": {
            "text/plain": [
              "<tensorflow.python.keras.callbacks.History at 0x7ff6651c5390>"
            ]
          },
          "metadata": {
            "tags": []
          },
          "execution_count": 70
        }
      ]
    },
    {
      "cell_type": "code",
      "metadata": {
        "id": "yF1CKYuo8bU_"
      },
      "source": [
        ""
      ],
      "execution_count": null,
      "outputs": []
    }
  ]
}